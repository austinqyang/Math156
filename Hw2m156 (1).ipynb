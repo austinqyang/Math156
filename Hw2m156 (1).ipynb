{
  "nbformat": 4,
  "nbformat_minor": 0,
  "metadata": {
    "colab": {
      "provenance": []
    },
    "kernelspec": {
      "name": "python3",
      "display_name": "Python 3"
    },
    "language_info": {
      "name": "python"
    }
  },
  "cells": [
    {
      "cell_type": "code",
      "execution_count": 2,
      "metadata": {
        "id": "ugDmBJeCxdlE"
      },
      "outputs": [],
      "source": [
        "import numpy as np\n",
        "import sklearn.model_selection\n",
        "import pandas as pd\n",
        "import matplotlib.pyplot as plt"
      ]
    },
    {
      "cell_type": "markdown",
      "source": [
        "Part A\n",
        "\n",
        "Loads the wine quality csv and properly prepares the data by splitting the numbers."
      ],
      "metadata": {
        "id": "Gt3-XoL5siyM"
      }
    },
    {
      "cell_type": "code",
      "source": [
        "# read wine quality for red wines\n",
        "redwine = pd.read_csv('winequality-red.csv', header = None)\n",
        "redwine = redwine[1:].to_numpy()\n",
        "\n",
        "fix_redwine = np.array([])\n",
        "quality = np.array([])\n",
        "for i in range(redwine.shape[0]):\n",
        "    temp = redwine[i][0].split(\";\")\n",
        "    fix_redwine = np.append(fix_redwine, temp[:-1])\n",
        "    quality = np.append(quality, temp[-1])\n",
        "\n",
        "fix_redwine = fix_redwine.reshape(redwine.shape[0], 11)\n",
        "fix_redwine = fix_redwine.astype(np.float64)\n",
        "quality = quality.astype(np.float64)\n",
        "\n",
        "\n",
        "print(fix_redwine.shape, quality.shape)\n",
        "\n",
        "\n",
        "\n"
      ],
      "metadata": {
        "colab": {
          "base_uri": "https://localhost:8080/"
        },
        "id": "i4SPFtm8xwt3",
        "outputId": "45b76f8c-b5e5-4faf-d1c5-f2c42be34081"
      },
      "execution_count": 15,
      "outputs": [
        {
          "output_type": "stream",
          "name": "stdout",
          "text": [
            "(1599, 11) (1599,)\n"
          ]
        }
      ]
    },
    {
      "cell_type": "markdown",
      "source": [
        "Part B\n",
        "\n",
        "Splitting the data into train, validation, and test sets. Also normalize the train and test sets\n",
        "\n",
        "\n",
        "Part C\n",
        "\n",
        "Also uses closed form solution to find the optimal solutions."
      ],
      "metadata": {
        "id": "WTA6YbLFCm-a"
      }
    },
    {
      "cell_type": "code",
      "source": [
        "x_train, x_validation, y_train, y_validation = sklearn.model_selection.train_test_split(fix_redwine, quality, test_size=0.2)\n",
        "x_validation, x_test, y_validation, y_test = sklearn.model_selection.train_test_split(x_validation, y_validation, test_size=0.5)\n",
        "\n",
        "print(x_train.shape)\n",
        "print(x_validation.shape)\n",
        "\n",
        "x_train = (x_train-np.mean(x_train))/np.std(x_train)\n",
        "print(x_train)\n",
        "x_test = (x_test-np.mean(x_test))/np.std(x_test)\n",
        "\n",
        "w = np.linalg.inv(x_train.T @ x_train) @ x_train.T @ y_train\n",
        "\n",
        "print(w)"
      ],
      "metadata": {
        "colab": {
          "base_uri": "https://localhost:8080/"
        },
        "id": "xPYjxOhS1rOu",
        "outputId": "358a6cb3-cbd9-4cd9-d81e-5aea97390b26"
      },
      "execution_count": 16,
      "outputs": [
        {
          "output_type": "stream",
          "name": "stdout",
          "text": [
            "(1279, 11)\n",
            "(160, 11)\n",
            "[[-0.04482749 -0.44450988 -0.47717337 ... -0.28297405 -0.45223034\n",
            "   0.07988766]\n",
            " [-0.05076631 -0.43025672 -0.47836113 ... -0.28534958 -0.45104258\n",
            "   0.06207121]\n",
            " [ 0.10364293 -0.45460587 -0.45460587 ... -0.29663333 -0.43975882\n",
            "   0.03831595]\n",
            " ...\n",
            " [-0.1873591  -0.46173245 -0.48370607 ... -0.26456372 -0.43975882\n",
            "   0.34713443]\n",
            " [-0.08639921 -0.46767126 -0.46767126 ... -0.29069452 -0.46113856\n",
            "   0.21054164]\n",
            " [ 0.18678637 -0.46232633 -0.4599508  ... -0.30079051 -0.43678942\n",
            "   0.06801003]]\n",
            "[ -0.04201228 -18.79536252  -3.04993187   0.10686092 -24.87047851\n",
            "   0.07648609  -0.055859    30.3385443   -8.03449023  13.83790325\n",
            "   4.79183579]\n"
          ]
        }
      ]
    },
    {
      "cell_type": "markdown",
      "source": [
        "Part D.\n",
        "\n",
        "Graph of predicted values and actual values. Graphed with the line x=y to visualize the error\n",
        "\n"
      ],
      "metadata": {
        "id": "Y3hFhn0eDbD0"
      }
    },
    {
      "cell_type": "code",
      "source": [
        "y_pred = x_test @ w\n",
        "\n",
        "x2 = np.linspace(3, 8, 100)\n",
        "plt.plot(y_test, y_pred, 'ro')\n",
        "plt.plot(x2, x2, color = \"blue\")\n",
        "plt.xlabel('actual')\n",
        "plt.ylabel('predicted')\n",
        "plt.show()"
      ],
      "metadata": {
        "colab": {
          "base_uri": "https://localhost:8080/",
          "height": 449
        },
        "id": "Ex4ddwgi9Irf",
        "outputId": "cf935dfa-84d3-4ea2-8cd4-f8fcdf839e2b"
      },
      "execution_count": 17,
      "outputs": [
        {
          "output_type": "display_data",
          "data": {
            "text/plain": [
              "<Figure size 640x480 with 1 Axes>"
            ],
            "image/png": "[encoded data removed]"
          },
          "metadata": {}
        }
      ]
    },
    {
      "cell_type": "markdown",
      "source": [
        "The x axis is the actual classification of wine quality. The y axis is the predicted wine quality from the model. It shows that the predicted values are more centered at 5, but the actual vvalues are more varied\n",
        "\n",
        "Part E.\n",
        "\n",
        "Calculate the root mean square of the training set and testing set"
      ],
      "metadata": {
        "id": "f0csx_3s_eig"
      }
    },
    {
      "cell_type": "code",
      "source": [
        "y_train_pred = x_train @ w\n",
        "rms_train = np.sqrt(np.sum(y_train_pred-y_train)**2/x_train.shape[0])\n",
        "print(\"Train rms: \", rms_train)\n",
        "\n",
        "y_test_pred = x_test @ w\n",
        "rms_test = np.sqrt(np.sum(y_test_pred-y_test)**2/x_test.shape[0])\n",
        "print(\"Test rms: \", rms_test)"
      ],
      "metadata": {
        "colab": {
          "base_uri": "https://localhost:8080/"
        },
        "id": "NEoxBEXW-U1G",
        "outputId": "0579432a-e434-4fef-bbbf-ccf4b334ee82"
      },
      "execution_count": 18,
      "outputs": [
        {
          "output_type": "stream",
          "name": "stdout",
          "text": [
            "Train rms:  2.3761801841469678e-06\n",
            "Test rms:  1.6904900488831094\n"
          ]
        }
      ]
    },
    {
      "cell_type": "markdown",
      "source": [
        "Part F\n",
        "\n",
        "Implementation of LMS to find optimal weights using iterative approach, with random weight initializers"
      ],
      "metadata": {
        "id": "6O_K_X2WGPlw"
      }
    },
    {
      "cell_type": "code",
      "source": [
        "w = np.random.randn(11)\n",
        "\n",
        "lr = 0.01\n",
        "epochs = 100\n",
        "\n",
        "\n",
        "\n",
        "for i in range(epochs):\n",
        "  for i in range(10):#x_train.shape[0]):\n",
        "    w += lr * (y_train[i]-w.T @ x_train[i]) * x_train[i]\n",
        "\n"
      ],
      "metadata": {
        "id": "b9LeP2KXAcyD"
      },
      "execution_count": 22,
      "outputs": []
    },
    {
      "cell_type": "markdown",
      "source": [
        "Part G.\n",
        "\n",
        "Root mean equare error on train and test sets for iterative solution"
      ],
      "metadata": {
        "id": "K-JYIB5cHrVM"
      }
    },
    {
      "cell_type": "code",
      "source": [
        "y_train_pred = x_train @ w\n",
        "rms_train = np.sqrt(np.sum(y_train_pred-y_train)**2/x_train.shape[0])\n",
        "print(\"Train rms: \", rms_train)\n",
        "\n",
        "y_test_pred = x_test @ w\n",
        "rms_test = np.sqrt(np.sum(y_test_pred-y_test)**2/x_test.shape[0])\n",
        "print(\"Test rms: \", rms_test)"
      ],
      "metadata": {
        "colab": {
          "base_uri": "https://localhost:8080/"
        },
        "id": "CgLCvOzfHc3U",
        "outputId": "123e40d7-7e88-4092-f1ae-23b658eee0db"
      },
      "execution_count": 23,
      "outputs": [
        {
          "output_type": "stream",
          "name": "stdout",
          "text": [
            "Train rms:  0.25898594813535475\n",
            "Test rms:  0.6770053425479017\n"
          ]
        }
      ]
    }
  ]
}